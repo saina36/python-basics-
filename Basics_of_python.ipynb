{
  "nbformat": 4,
  "nbformat_minor": 0,
  "metadata": {
    "colab": {
      "provenance": []
    },
    "kernelspec": {
      "name": "python3",
      "display_name": "Python 3"
    },
    "language_info": {
      "name": "python"
    }
  },
  "cells": [
    {
      "cell_type": "markdown",
      "source": [
        "#ASSIGNMENT"
      ],
      "metadata": {
        "id": "4Vq40tAZ7YOg"
      }
    },
    {
      "cell_type": "markdown",
      "source": [
        "##PYTHON BASICS"
      ],
      "metadata": {
        "id": "mpGwePI67WQn"
      }
    },
    {
      "cell_type": "markdown",
      "source": [
        "###Theory Questions"
      ],
      "metadata": {
        "id": "wa6xUEHfQloZ"
      }
    },
    {
      "cell_type": "markdown",
      "source": [
        "1. What is Python, and why is it popular?\n",
        "  \n",
        "  - Python is a programming language which is used to communicate with the machines.\n",
        "  python is very popular becuase of its versatility.Python coding is simple when compared with other programming languages as its syntax is exactly like the spoken english.A beginner can easily understand python because of its simplicity.Also pyhton is an open source and it has a large active community which is contributing almost everyday.It has so much pre-built libraries and functions for easy coding so that it only consumes a less time for developers.python can be used for web application development,data science,AI and ML.So it has a vast usecases.\n",
        "\n",
        "2. What is an interpreter in Python ?\n",
        "\n",
        " - An interpreter in Python is a program that executes Python code line by line, translating it into machine-readable instructions. Unlike a compiler, which translates the entire code at once, an interpreter executes each statement sequentially, making it easier to debug but potentially slower than compiled languages.\n",
        "\n",
        "3. What are pre-defined keywords in Python?\n",
        "\n",
        " -  pre=defined keywords in python are the words that are already defined,which means these keywords has their own functions.So we cant use these keywords as any variables names and functions because they cant perform as a keyword then.so these keywords have their own functionalities in python.Some of the keywords in python are as follows:\n",
        " for, while,def,if,else,elif etc.\n",
        "\n",
        "4. Can keywords be used as variable names ?\n",
        "\n",
        " - No.They cant be used as variable names because these keywords cant perform their pre assigned functions then.Using keywoprds as variable names will give a syntaxerror.\n",
        " For example,\n",
        " code:if=25\n",
        " The above code will give a syntax error becuase if is a keyword.\n",
        "\n",
        "5. What is mutability in Python?\n",
        "\n",
        " - Mutability refers to whether an object's value can be changed after it is created.lists are mutable objects and tuples are immutable objects,which means we can change the list elements after it is created but we cant do this in tuples.\n",
        "\n",
        "6. Why are lists mutable, but tuples are immutable ?\n",
        "\n",
        " - Lists are mutable because they store references to objects,allowing changes in elements.Tuples are immutable because they store fixed memory addresses,preventing modifications.\n",
        " For example,if we try to append a value in list and tuple after they are created,we can successfully append the value in list,but it will give an error while trying this in tuple.\n",
        "\n",
        "7. What is the difference between “==” and “is” operators in Python ?\n",
        "\n",
        " - == (Equality Operator): Checks if two values are equal.\n",
        " - is (Identity Operator): Checks if two objects refer to the same memory location.\n",
        " For example,\n",
        " code:a=2\n",
        " b=2\n",
        " c=a\n",
        " a==b #will give True\n",
        " a is b #will give False\n",
        " a is c #will give True\n",
        "\n",
        "8. What are logical operators in Python ?\n",
        "\n",
        " - Logical operators are used for combining conditional statements.There are mainly three logical operators.They are:'and','or', and 'not'.Each logical operators has its own functionalities.and will give True if both the conditions are True only.or will give True if either of the conditions are True.not will give the negotiation of the statement.\n",
        "\n",
        "9. What is type casting in Python ?\n",
        "\n",
        " - Type casting is the process of converting a variable from one data type to another in Python. Python provides different data types such as int, float, str, etc. We can convert between these types using type casting.There are mainly two typecasting techniques.They are implicitv and exlicit typecasting.\n",
        "\n",
        "10. What is the difference between implicit and explicit type casting ?\n",
        "\n",
        " - Implicit Casting: Done automatically by Python.\n",
        " - Explicit Casting: Done manually using int(),float(),str(),etc.\n",
        " For example,\n",
        " code:\n",
        "###Implicit\n",
        "x = 5    # int\n",
        "y = 2.5  # float\n",
        "z = x + y  # z becomes float (7.5)\n",
        "### Explicit\n",
        "a = \"10\"\n",
        "b = int(a)  # Convert string to int\n",
        "\n",
        "11. What is the purpose of conditional statements in Python ?\n",
        "\n",
        " - Conditional statements allow decision-making in code. They execute different blocks based on conditions.\n",
        "\n",
        "12. How does the elif statement work?\n",
        "\n",
        " - elif or else if statement is used to check multiple conditions.elif will only execute if the if statement is not True.elif is really helpful in real life cases as it is used to check mutltiple conditions.\n",
        "\n",
        "13. What is the difference between for and while loops ?\n",
        "\n",
        " - for loops:\n",
        "   for loop will iterate over sequences like list,tuple,etc.It is useful in conditions where the no.of iterations are already known.\n",
        " - while loops:\n",
        "   while loops will executes the output until it met a certain condition.\n",
        "\n",
        "14. Describe a scenario where a while loop is more suitable than a for loop.\n",
        "\n",
        " - A while loop is better when you don't know the number of iterations beforehand.An example is waiting for a user input.\n"
      ],
      "metadata": {
        "id": "g1liBwhU7kuv"
      }
    },
    {
      "cell_type": "markdown",
      "source": [
        "###Practical Questions"
      ],
      "metadata": {
        "id": "I8Uo2A8AQtZl"
      }
    },
    {
      "cell_type": "markdown",
      "source": [
        "1. Write a Python program to print \"Hello, World!\""
      ],
      "metadata": {
        "id": "2tNKQ32VQ1cm"
      }
    },
    {
      "cell_type": "code",
      "source": [
        "string1=\"Hello, World!\"\n",
        "print(string1)"
      ],
      "metadata": {
        "colab": {
          "base_uri": "https://localhost:8080/"
        },
        "id": "h4BUcI0F7SJR",
        "outputId": "a9471b55-c465-4943-d26a-0eee9d5bbc90"
      },
      "execution_count": 3,
      "outputs": [
        {
          "output_type": "stream",
          "name": "stdout",
          "text": [
            "Hello, World!\n"
          ]
        }
      ]
    },
    {
      "cell_type": "markdown",
      "source": [
        "2. Write a Python program that displays your name and age"
      ],
      "metadata": {
        "id": "YlEVJVYjRGuK"
      }
    },
    {
      "cell_type": "code",
      "source": [
        "name=\"saina\"\n",
        "age=22\n",
        "print(f\"my name is {name} and age is {age}\")"
      ],
      "metadata": {
        "colab": {
          "base_uri": "https://localhost:8080/"
        },
        "id": "pqnHbK5ZROYZ",
        "outputId": "d2b28727-ef64-4635-e0bb-21368dde7b44"
      },
      "execution_count": 4,
      "outputs": [
        {
          "output_type": "stream",
          "name": "stdout",
          "text": [
            "my name is saina and age is 22\n"
          ]
        }
      ]
    },
    {
      "cell_type": "markdown",
      "source": [
        "3. Write code to print all the pre-defined keywords in Python using the keyword library"
      ],
      "metadata": {
        "id": "xqRL5px8RpYY"
      }
    },
    {
      "cell_type": "code",
      "source": [
        "import keyword\n",
        "print(keyword.kwlist)"
      ],
      "metadata": {
        "colab": {
          "base_uri": "https://localhost:8080/"
        },
        "id": "0DOPgd4qRcVt",
        "outputId": "939c8801-83ca-44d5-e356-1f0a46444fed"
      },
      "execution_count": 5,
      "outputs": [
        {
          "output_type": "stream",
          "name": "stdout",
          "text": [
            "['False', 'None', 'True', 'and', 'as', 'assert', 'async', 'await', 'break', 'class', 'continue', 'def', 'del', 'elif', 'else', 'except', 'finally', 'for', 'from', 'global', 'if', 'import', 'in', 'is', 'lambda', 'nonlocal', 'not', 'or', 'pass', 'raise', 'return', 'try', 'while', 'with', 'yield']\n"
          ]
        }
      ]
    },
    {
      "cell_type": "markdown",
      "source": [
        "4. Write a program that checks if a given word is a Python keyword."
      ],
      "metadata": {
        "id": "5_jf_l9rRnjD"
      }
    },
    {
      "cell_type": "code",
      "source": [
        "key_word=input(\"enter a word:\")\n",
        "if key_word in keyword.kwlist:\n",
        "  print(f\"{key_word} is a keyword\")\n",
        "else:\n",
        "  print(f\"{key_word} is not a keyword\")"
      ],
      "metadata": {
        "colab": {
          "base_uri": "https://localhost:8080/"
        },
        "id": "NyvgUhksSdSn",
        "outputId": "0b342b10-677d-48cf-9941-65b9f8a208b7"
      },
      "execution_count": 6,
      "outputs": [
        {
          "output_type": "stream",
          "name": "stdout",
          "text": [
            "enter a word:if\n",
            "if is a keyword\n"
          ]
        }
      ]
    },
    {
      "cell_type": "code",
      "source": [
        "key_word=input(\"enter a word:\")\n",
        "if key_word in keyword.kwlist:\n",
        "  print(f\"{key_word} is a keyword\")\n",
        "else:\n",
        "  print(f\"{key_word} is not a keyword\")"
      ],
      "metadata": {
        "colab": {
          "base_uri": "https://localhost:8080/"
        },
        "id": "hObQGS2DSwJE",
        "outputId": "159866b8-5844-498d-c883-36a63011cd1f"
      },
      "execution_count": 7,
      "outputs": [
        {
          "output_type": "stream",
          "name": "stdout",
          "text": [
            "enter a word:nothing\n",
            "nothing is not a keyword\n"
          ]
        }
      ]
    },
    {
      "cell_type": "markdown",
      "source": [
        "5. Create a list and tuple in Python, and demonstrate how attempting to change an element works differently\n",
        "for each."
      ],
      "metadata": {
        "id": "cU8LnEJBTCUh"
      }
    },
    {
      "cell_type": "code",
      "source": [
        "my_list=[1,2,3]\n",
        "my_tuple=(1,2,3)\n",
        "my_list[1]=6\n",
        "print(my_list)\n",
        "my_tuple[1]=6\n",
        "print"
      ],
      "metadata": {
        "colab": {
          "base_uri": "https://localhost:8080/",
          "height": 211
        },
        "id": "eKP2GVB5S0N3",
        "outputId": "0e3efb1b-6c40-4eee-be0e-61176a5831ae"
      },
      "execution_count": 9,
      "outputs": [
        {
          "output_type": "stream",
          "name": "stdout",
          "text": [
            "[1, 6, 3]\n"
          ]
        },
        {
          "output_type": "error",
          "ename": "TypeError",
          "evalue": "'tuple' object does not support item assignment",
          "traceback": [
            "\u001b[0;31m---------------------------------------------------------------------------\u001b[0m",
            "\u001b[0;31mTypeError\u001b[0m                                 Traceback (most recent call last)",
            "\u001b[0;32m<ipython-input-9-9b99c903e420>\u001b[0m in \u001b[0;36m<cell line: 0>\u001b[0;34m()\u001b[0m\n\u001b[1;32m      3\u001b[0m \u001b[0mmy_list\u001b[0m\u001b[0;34m[\u001b[0m\u001b[0;36m1\u001b[0m\u001b[0;34m]\u001b[0m\u001b[0;34m=\u001b[0m\u001b[0;36m6\u001b[0m\u001b[0;34m\u001b[0m\u001b[0;34m\u001b[0m\u001b[0m\n\u001b[1;32m      4\u001b[0m \u001b[0mprint\u001b[0m\u001b[0;34m(\u001b[0m\u001b[0mmy_list\u001b[0m\u001b[0;34m)\u001b[0m\u001b[0;34m\u001b[0m\u001b[0;34m\u001b[0m\u001b[0m\n\u001b[0;32m----> 5\u001b[0;31m \u001b[0mmy_tuple\u001b[0m\u001b[0;34m[\u001b[0m\u001b[0;36m1\u001b[0m\u001b[0;34m]\u001b[0m\u001b[0;34m=\u001b[0m\u001b[0;36m6\u001b[0m\u001b[0;34m\u001b[0m\u001b[0;34m\u001b[0m\u001b[0m\n\u001b[0m\u001b[1;32m      6\u001b[0m \u001b[0mprint\u001b[0m\u001b[0;34m\u001b[0m\u001b[0;34m\u001b[0m\u001b[0m\n",
            "\u001b[0;31mTypeError\u001b[0m: 'tuple' object does not support item assignment"
          ]
        }
      ]
    },
    {
      "cell_type": "markdown",
      "source": [
        "6. Write a function to demonstrate the behavior of mutable and immutable arguments."
      ],
      "metadata": {
        "id": "R2-1CsmoUHpr"
      }
    },
    {
      "cell_type": "code",
      "source": [
        "def check_mutability(mutable,immutable):\n",
        "  mutable=mutable.append(10)\n",
        "  immutable=immutable+10\n",
        "\n",
        "\n",
        "mutable=[1,2,3]\n",
        "immutable=20\n",
        "res=check_mutability(mutable,immutable)\n",
        "print(mutable)\n",
        "print(immutable)\n",
        ""
      ],
      "metadata": {
        "colab": {
          "base_uri": "https://localhost:8080/"
        },
        "id": "hPflOehGTWHm",
        "outputId": "1d3741db-09d4-4492-c2f1-97f21fd56c58"
      },
      "execution_count": 21,
      "outputs": [
        {
          "output_type": "stream",
          "name": "stdout",
          "text": [
            "[1, 2, 3, 10]\n",
            "20\n"
          ]
        }
      ]
    },
    {
      "cell_type": "markdown",
      "source": [
        " 7. Write a program that performs basic arithmetic operations on two user-input numbers."
      ],
      "metadata": {
        "id": "uO77gPPOYHNg"
      }
    },
    {
      "cell_type": "code",
      "source": [
        "def arithmetic_operations(a,b):\n",
        "  addition=a+b\n",
        "  subtraction=a-b\n",
        "  multiplication=a*b\n",
        "  division=a/b\n",
        "  print('addition of two numbers are:',addition )\n",
        "  print('subtraction of two numbers are:',subtraction)\n",
        "  print('multiplication of two numbers are:',multiplication)\n",
        "  print('division of two numbers are:',division)\n",
        "\n",
        "\n",
        "a=float(input(\"enter a number:\"))\n",
        "b=float(input(\"enter a number:\"))\n",
        "arithmetic_operations(a,b)\n"
      ],
      "metadata": {
        "colab": {
          "base_uri": "https://localhost:8080/"
        },
        "id": "cN18HmGhV2VE",
        "outputId": "0d6d9d99-88a8-4c7d-c1f2-4e27c1ffa0fa"
      },
      "execution_count": 32,
      "outputs": [
        {
          "output_type": "stream",
          "name": "stdout",
          "text": [
            "enter a number:7\n",
            "enter a number:9\n",
            "addition of two numbers are: 16.0\n",
            "subtraction of two numbers are: -2.0\n",
            "multiplication of two numbers are: 63.0\n",
            "division of two numbers are: 0.7777777777777778\n"
          ]
        }
      ]
    },
    {
      "cell_type": "markdown",
      "source": [
        "8. Write a program to demonstrate the use of logical operators."
      ],
      "metadata": {
        "id": "fS-KSqQUZh8j"
      }
    },
    {
      "cell_type": "code",
      "source": [
        "x=10\n",
        "y=2\n",
        "if x>y and x>20:\n",
        "  print(f\"{x} is greater than {y} AND {x} is greater than 20\")\n",
        "if x>y or x>20:\n",
        "  print(f\"{x} is greater than {y} OR {x} is greater than 20\")\n",
        "if x!=y:\n",
        "  print(f\"{x} is not equal to {y}\")"
      ],
      "metadata": {
        "colab": {
          "base_uri": "https://localhost:8080/"
        },
        "id": "xgv0aQySWUBP",
        "outputId": "e9d9601b-ecd2-4785-ee5e-d0806be23e99"
      },
      "execution_count": 33,
      "outputs": [
        {
          "output_type": "stream",
          "name": "stdout",
          "text": [
            "10 is greater than 2 OR 10 is greater than 20\n",
            "10 is not equal to 2\n"
          ]
        }
      ]
    },
    {
      "cell_type": "markdown",
      "source": [
        "9. Write a Python program to convert user input from string to integer, float, and boolean types."
      ],
      "metadata": {
        "id": "nbmbmrQnapF8"
      }
    },
    {
      "cell_type": "code",
      "source": [
        "word=input(\"enter a string:\")\n",
        "print(f\"string to integer:{int(word)}\")\n",
        "print(f\"string to float:{float(word)}\")\n",
        "print(f\"string to boolean:{bool(word)}\")"
      ],
      "metadata": {
        "colab": {
          "base_uri": "https://localhost:8080/"
        },
        "id": "qCrX9MFKWwcM",
        "outputId": "714280c6-e971-4fc4-c986-a5a12e386a7f"
      },
      "execution_count": 38,
      "outputs": [
        {
          "output_type": "stream",
          "name": "stdout",
          "text": [
            "enter a string:6\n",
            "string to integer:6\n",
            "string to float:6.0\n",
            "string to boolean:True\n"
          ]
        }
      ]
    },
    {
      "cell_type": "markdown",
      "source": [
        "10. Write code to demonstrate type casting with list elements."
      ],
      "metadata": {
        "id": "Sw0WyAijcY1A"
      }
    },
    {
      "cell_type": "code",
      "source": [
        "my_list=[1,'hello',[2,6,7],(5,6,7),9]\n",
        "print(type(my_list[0]))\n",
        "\n",
        "print(type(str(my_list[0])))\n",
        "print(my_list)\n",
        "\n"
      ],
      "metadata": {
        "colab": {
          "base_uri": "https://localhost:8080/"
        },
        "id": "EtC_jx6NbnrZ",
        "outputId": "3e498839-b97b-4dba-d348-8025c532d53b"
      },
      "execution_count": 48,
      "outputs": [
        {
          "output_type": "stream",
          "name": "stdout",
          "text": [
            "<class 'int'>\n",
            "<class 'str'>\n",
            "[1, 'hello', [2, 6, 7], (5, 6, 7), 9]\n"
          ]
        }
      ]
    },
    {
      "cell_type": "markdown",
      "source": [
        "11. Write a program that checks if a number is positive, negative, or zero."
      ],
      "metadata": {
        "id": "X1CwkJFLdmnz"
      }
    },
    {
      "cell_type": "code",
      "source": [
        "num=int(input(\"enter a number:\"))\n",
        "if num>0:\n",
        "  print(f\"{num} is a positive number\")\n",
        "elif num<0:\n",
        "  print(f\"{num} is a negative number\")\n",
        "else:\n",
        "  print(f\"{num} is zero\")\n"
      ],
      "metadata": {
        "colab": {
          "base_uri": "https://localhost:8080/"
        },
        "id": "CjdcpizXcjlb",
        "outputId": "b93fcaae-2342-464d-8a39-e241ed637229"
      },
      "execution_count": 51,
      "outputs": [
        {
          "output_type": "stream",
          "name": "stdout",
          "text": [
            "enter a number:-3\n",
            "-3 is a negative number\n"
          ]
        }
      ]
    },
    {
      "cell_type": "markdown",
      "source": [
        "12. Write a for loop to print numbers from 1 to 10."
      ],
      "metadata": {
        "id": "Iql0vao9eDE6"
      }
    },
    {
      "cell_type": "code",
      "source": [
        "for num in range(1,11):\n",
        "  print(num)\n"
      ],
      "metadata": {
        "colab": {
          "base_uri": "https://localhost:8080/"
        },
        "id": "NjjJLUUVd7aP",
        "outputId": "dc6ae39a-f27d-4507-d298-de663aa7be69"
      },
      "execution_count": 53,
      "outputs": [
        {
          "output_type": "stream",
          "name": "stdout",
          "text": [
            "1\n",
            "2\n",
            "3\n",
            "4\n",
            "5\n",
            "6\n",
            "7\n",
            "8\n",
            "9\n",
            "10\n"
          ]
        }
      ]
    },
    {
      "cell_type": "markdown",
      "source": [
        "13. Write a Python program to find the sum of all even numbers between 1 and 50."
      ],
      "metadata": {
        "id": "nmmyCbapeWpt"
      }
    },
    {
      "cell_type": "code",
      "source": [
        "sum_of_numbers=0\n",
        "for num in range(1,51):\n",
        "  if num%2==0:\n",
        "    sum_of_numbers=sum_of_numbers+num\n",
        "print(sum_of_numbers)"
      ],
      "metadata": {
        "colab": {
          "base_uri": "https://localhost:8080/"
        },
        "id": "4Jxt-dg3eOxL",
        "outputId": "06ef7a9f-aaf6-4ab6-9c16-7654a1d69f54"
      },
      "execution_count": 57,
      "outputs": [
        {
          "output_type": "stream",
          "name": "stdout",
          "text": [
            "650\n"
          ]
        }
      ]
    },
    {
      "cell_type": "markdown",
      "source": [
        "14. Write a program to reverse a string using a while loop."
      ],
      "metadata": {
        "id": "_7fIKhQnfqpW"
      }
    },
    {
      "cell_type": "code",
      "source": [
        "text = input(\"Enter a string: \")\n",
        "reversed_text = \"\"\n",
        "index = len(text) - 1\n",
        "while index >= 0:\n",
        "    reversed_text += text[index]\n",
        "    index -= 1\n",
        "print(\"Reversed string:\", reversed_text)\n"
      ],
      "metadata": {
        "colab": {
          "base_uri": "https://localhost:8080/"
        },
        "id": "9uTtgfgye7F6",
        "outputId": "bf9f3a4a-9e28-4add-c268-5a4123e17d37"
      },
      "execution_count": 60,
      "outputs": [
        {
          "output_type": "stream",
          "name": "stdout",
          "text": [
            "Enter a string: python\n",
            "Reversed string: nohtyp\n"
          ]
        }
      ]
    },
    {
      "cell_type": "markdown",
      "source": [
        "15. . Write a Python program to calculate the factorial of a number provided by the user using a while loop."
      ],
      "metadata": {
        "id": "vqkESMKphxQ-"
      }
    },
    {
      "cell_type": "code",
      "source": [
        "num=int(input(\"enter a number:\"))\n",
        "original_num=num\n",
        "factorial=1\n",
        "while num>0:\n",
        "  factorial=factorial*num\n",
        "  num=num-1\n",
        "print(f\"factorial of {original_num} is {factorial}\")"
      ],
      "metadata": {
        "colab": {
          "base_uri": "https://localhost:8080/"
        },
        "id": "yh1ooCnYf1aT",
        "outputId": "4314de2a-fe7b-42ef-fb97-8ea8a41e9315"
      },
      "execution_count": 63,
      "outputs": [
        {
          "output_type": "stream",
          "name": "stdout",
          "text": [
            "enter a number:6\n",
            "factorial of 6 is 720\n"
          ]
        }
      ]
    },
    {
      "cell_type": "markdown",
      "source": [
        "#THANK YOU"
      ],
      "metadata": {
        "id": "iZatmko7jP6e"
      }
    },
    {
      "cell_type": "code",
      "source": [],
      "metadata": {
        "id": "m_i6JompiF3F"
      },
      "execution_count": null,
      "outputs": []
    }
  ]
}